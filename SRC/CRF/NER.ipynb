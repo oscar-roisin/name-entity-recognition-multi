{
 "cells": [
  {
   "cell_type": "markdown",
   "metadata": {},
   "source": [
    "# NER - Multilang"
   ]
  },
  {
   "cell_type": "code",
   "execution_count": 1,
   "metadata": {},
   "outputs": [
    {
     "name": "stderr",
     "output_type": "stream",
     "text": [
      "Using TensorFlow backend.\n"
     ]
    }
   ],
   "source": [
    "import numpy as np\n",
    "import pandas as pd\n",
    "import csv\n",
    "import pickle\n",
    "import keras\n",
    "from sklearn_crfsuite import metrics\n",
    "from sklearn.model_selection import train_test_split\n",
    "import matplotlib.pyplot as plt\n",
    "from sklearn_crfsuite import CRF\n",
    "\n",
    "# Mainly Used:\n",
    "# https://www.depends-on-the-definition.com/named-entity-recognition-conditional-random-fields-python/"
   ]
  },
  {
   "cell_type": "markdown",
   "metadata": {},
   "source": [
    "### Prepare data files"
   ]
  },
  {
   "cell_type": "code",
   "execution_count": 2,
   "metadata": {},
   "outputs": [
    {
     "name": "stdout",
     "output_type": "stream",
     "text": [
      "done\n"
     ]
    }
   ],
   "source": [
    "def sweStandardizeTag(line):\n",
    "    SWE_TAG_SET=[\"ORG\",\"PRS\",\"LOC\",\"OTHER\",\"O\"]\n",
    "    lineParts = line.split(\"\\t\")\n",
    "    ner_tag = lineParts[2]\n",
    "    if ner_tag in SWE_TAG_SET:\n",
    "        return line\n",
    "    if ner_tag[:3] == \"LOC\" or ner_tag == \"place\":\n",
    "        ner_tag = \"LOC\"\n",
    "    if ner_tag == \"person\":\n",
    "        ner_tag = \"PRS\"\n",
    "    if ner_tag in [\"inst\", \"ORG/PRS\", \"OBJ/ORG\"]:\n",
    "        ner_tag = \"ORG\"\n",
    "    if ner_tag in [\"WRK\",\"OBJ\",\"EVN\",\"product\",\"other\",\"work\",\"event\",\"myth\",\"animal\",\"MSR\",\"TME\",\"PRS/WRK\"]:\n",
    "        ner_tag = \"OTHER\"\n",
    "    \n",
    "    if ner_tag not in SWE_TAG_SET:\n",
    "        raise Exception(ner_tag + \" - not in tag set\") \n",
    "    return lineParts[0] + \"\\t\" + lineParts[1] + \"\\t\" + ner_tag\n",
    "\n",
    "def engStandardizeTag(line):\n",
    "    ENG_TAG_SET=[\"ORG\",\"PRS\",\"LOC\",\"OTHER\",\"O\"]\n",
    "    lineParts = line.split(\"\\t\")\n",
    "    ner_tag = lineParts[2]\n",
    "    ner_tag = ner_tag.strip()\n",
    "    if ner_tag[-3:] == \"geo\":\n",
    "        ner_tag = \"LOC\"\n",
    "    if ner_tag[-3:] == \"per\":\n",
    "        ner_tag = \"PRS\"\n",
    "    if ner_tag in [\"B-org\", \"I-org\"]:\n",
    "        ner_tag = \"ORG\"\n",
    "    if ner_tag in [\"B-gpe\",\"CD\",\"B-tim\",\"B-art\",\"I-art\",\"I-gpe\",\"I-tim\",\"B-nat\",\"I-nat\",\n",
    "                  \"B-eve\",\"I-eve\"]:\n",
    "        ner_tag = \"OTHER\"\n",
    "    if ner_tag in [\"000\\\"\",\"00\",\"\\\"\",\"JJ\",\"NNS\",\"CC\"] or ner_tag[:2].isdigit():\n",
    "        return \"\"\n",
    "    \n",
    "    if ner_tag not in ENG_TAG_SET:\n",
    "        raise Exception(ner_tag + \" - not in tag set\") \n",
    "    return lineParts[0].strip() + \"\\t\" + lineParts[1].strip() + \"\\t\" + ner_tag\n",
    "\n",
    "def frStandardizeTag(line):\n",
    "    SWE_TAG_SET=[\"ORG\",\"PRS\",\"LOC\",\"OTHER\",\"O\"]\n",
    "    lineParts = line.split(\"\\t\")\n",
    "    ner_tag = lineParts[2]\n",
    "    if ner_tag in SWE_TAG_SET:\n",
    "        return line\n",
    "    if ner_tag[-3:] == \"LOC\" or ner_tag == \"place\":\n",
    "        ner_tag = \"LOC\"\n",
    "    if ner_tag[-3:] == \"PER\" or ner_tag == \"person\":\n",
    "        ner_tag = \"PRS\"\n",
    "    if ner_tag[-3:] == \"ORG\":\n",
    "        ner_tag = \"ORG\"\n",
    "    if ner_tag in [\"I-MISC\",\"B-MISC\"]:\n",
    "        ner_tag = \"OTHER\"\n",
    "    \n",
    "    if ner_tag not in SWE_TAG_SET:\n",
    "        raise Exception(ner_tag + \" - not in tag set\") \n",
    "    return lineParts[0] + \"\\t\" + lineParts[1] + \"\\t\" + ner_tag\n",
    "\n",
    "\n",
    "DATA_DIR=\"../../DATA\"\n",
    "filenames = [ \"swedish.txt\", \"english.txt\", \"french.txt\"]\n",
    "\n",
    "for langID in range(len(filenames)):\n",
    "    filename=filenames[langID]\n",
    "    originalFile= open(DATA_DIR + \"/\" + filename,\"r\")\n",
    "    file= open(DATA_DIR + \"/sent_\" + filename,\"w+\")\n",
    "    originalFileLines =originalFile.readlines()\n",
    "    sentId=1\n",
    "    for line in originalFileLines:\n",
    "        line = line.strip()\n",
    "        if len(line) == 0:\n",
    "            sentId = sentId + 1\n",
    "            continue\n",
    "        if langID == 0:\n",
    "            line = sweStandardizeTag(line)\n",
    "        if langID ==1:\n",
    "            line = engStandardizeTag(line)\n",
    "        if langID ==2:\n",
    "            line = frStandardizeTag(line)\n",
    "        \n",
    "        if len(line) == 0:\n",
    "            sentId = sentId + 1\n",
    "            continue\n",
    "        file.write(str(sentId) + \"\\t\" + line +\"\\n\")\n",
    "    file.close()\n",
    "    originalFile.close()\n",
    "print(\"done\")"
   ]
  },
  {
   "cell_type": "markdown",
   "metadata": {},
   "source": [
    "#### Read and Analyse Data"
   ]
  },
  {
   "cell_type": "code",
   "execution_count": 3,
   "metadata": {},
   "outputs": [
    {
     "data": {
      "text/html": [
       "<div>\n",
       "<style scoped>\n",
       "    .dataframe tbody tr th:only-of-type {\n",
       "        vertical-align: middle;\n",
       "    }\n",
       "\n",
       "    .dataframe tbody tr th {\n",
       "        vertical-align: top;\n",
       "    }\n",
       "\n",
       "    .dataframe thead th {\n",
       "        text-align: right;\n",
       "    }\n",
       "</style>\n",
       "<table border=\"1\" class=\"dataframe\">\n",
       "  <thead>\n",
       "    <tr style=\"text-align: right;\">\n",
       "      <th></th>\n",
       "      <th>sent</th>\n",
       "      <th>token</th>\n",
       "      <th>pos</th>\n",
       "      <th>ner</th>\n",
       "      <th>token_shape</th>\n",
       "    </tr>\n",
       "  </thead>\n",
       "  <tbody>\n",
       "    <tr>\n",
       "      <th>0</th>\n",
       "      <td>1</td>\n",
       "      <td>Thousands</td>\n",
       "      <td>NNS</td>\n",
       "      <td>O</td>\n",
       "      <td>Xx</td>\n",
       "    </tr>\n",
       "    <tr>\n",
       "      <th>1</th>\n",
       "      <td>1</td>\n",
       "      <td>of</td>\n",
       "      <td>IN</td>\n",
       "      <td>O</td>\n",
       "      <td>x</td>\n",
       "    </tr>\n",
       "    <tr>\n",
       "      <th>2</th>\n",
       "      <td>1</td>\n",
       "      <td>demonstrators</td>\n",
       "      <td>NNS</td>\n",
       "      <td>O</td>\n",
       "      <td>x</td>\n",
       "    </tr>\n",
       "    <tr>\n",
       "      <th>3</th>\n",
       "      <td>1</td>\n",
       "      <td>have</td>\n",
       "      <td>VBP</td>\n",
       "      <td>O</td>\n",
       "      <td>x</td>\n",
       "    </tr>\n",
       "    <tr>\n",
       "      <th>4</th>\n",
       "      <td>1</td>\n",
       "      <td>marched</td>\n",
       "      <td>VBN</td>\n",
       "      <td>O</td>\n",
       "      <td>x</td>\n",
       "    </tr>\n",
       "  </tbody>\n",
       "</table>\n",
       "</div>"
      ],
      "text/plain": [
       "   sent          token  pos ner token_shape\n",
       "0     1      Thousands  NNS   O          Xx\n",
       "1     1             of   IN   O           x\n",
       "2     1  demonstrators  NNS   O           x\n",
       "3     1           have  VBP   O           x\n",
       "4     1        marched  VBN   O           x"
      ]
     },
     "execution_count": 3,
     "metadata": {},
     "output_type": "execute_result"
    }
   ],
   "source": [
    "DATA_DIR=\"../../DATA\"\n",
    "SENT_COL=\"sent\"\n",
    "TOKEN_COL=\"token\"\n",
    "SHAPE_COL=\"token_shape\"\n",
    "POS_COL=\"pos\"\n",
    "NER_COL=\"ner\"\n",
    "\n",
    "TOKEN_SHAPE_CAT_COL=\"token_shape_cat\"\n",
    "POS_CAT_COL=\"pos_cat\"\n",
    "POS_PREV_CAT_COL=\"pos_prev_cat\"\n",
    "POS_NEXT_CAT_COL=\"pos_next_cat\"\n",
    "POS_PREV_PREV_CAT_COL=\"pos_prev_prev_cat\"\n",
    "NER_CAT_COL=\"ner_cat\"\n",
    "\n",
    "filenames = [ \"sent_swedish.txt\", \"sent_english.txt\", \"sent_french.txt\"]\n",
    "\n",
    "swe_data = pd.read_csv( DATA_DIR + '/' + filenames[0], sep=\"\\t\", header=None, quoting=csv.QUOTE_NONE)\n",
    "eng_data = pd.read_csv( DATA_DIR + '/' + filenames[1], sep=\"\\t\", header=None, quoting=csv.QUOTE_NONE)\n",
    "fr_data = pd.read_csv( DATA_DIR + '/' + filenames[2], sep=\"\\t\", header=None, quoting=csv.QUOTE_NONE)\n",
    "\n",
    "def analyseTokens(df):\n",
    "    new_token_col = []\n",
    "    for token in df[TOKEN_COL]:\n",
    "        token=token.strip()\n",
    "        token_shape = \"\"\n",
    "        if len(token) == 1 and not token.isalnum():\n",
    "            token_shape = \"sign\" # or =token\n",
    "        else:\n",
    "            if token.isupper():\n",
    "                token_shape=\"X\"\n",
    "            elif token[0].isupper():\n",
    "                token_shape=\"Xx\"\n",
    "            else:\n",
    "                token_shape=\"x\"\n",
    "            if token[len(token)-1] == \".\":\n",
    "                token_shape+=\".\"\n",
    "        new_token_col.append(token_shape)\n",
    "    df[SHAPE_COL]=new_token_col\n",
    "\n",
    "def offsetArray(array,offset):\n",
    "    return np.roll(array,offset)\n",
    "    \n",
    "dataframes = [ swe_data, eng_data, fr_data ]\n",
    "\n",
    "for df in dataframes:\n",
    "    df.columns = [ SENT_COL, TOKEN_COL, POS_COL, NER_COL ]\n",
    "    analyseTokens(df)\n",
    "\n",
    "DATA_TESTED = eng_data\n",
    "\n",
    "DATA_TESTED.head()"
   ]
  },
  {
   "cell_type": "markdown",
   "metadata": {},
   "source": [
    "### Extract features"
   ]
  },
  {
   "cell_type": "code",
   "execution_count": 4,
   "metadata": {},
   "outputs": [
    {
     "name": "stdout",
     "output_type": "stream",
     "text": [
      "done\n"
     ]
    }
   ],
   "source": [
    "class SentenceGetter(object):\n",
    "    \n",
    "    def __init__(self, data):\n",
    "        self.n_sent = 1\n",
    "        self.data = data\n",
    "        self.empty = False\n",
    "        agg_func = lambda s: [(w, p, t,s) for w, p, t,s in zip(s[TOKEN_COL].values.tolist(),\n",
    "                                                           s[POS_COL].values.tolist(),\n",
    "                                                           s[NER_COL].values.tolist(),\n",
    "                                                           s[SHAPE_COL].values.tolist())]\n",
    "        self.grouped = self.data.groupby(SENT_COL).apply(agg_func)\n",
    "        self.sentences = [s for s in self.grouped]\n",
    "    \n",
    "    def get_next(self):\n",
    "        try:\n",
    "            s = self.grouped[self.n_sent]\n",
    "            self.n_sent += 1\n",
    "            return s\n",
    "        except:\n",
    "            return None\n",
    "\n",
    "def word2features(sent, i):\n",
    "    word = sent[i][0]\n",
    "    postag = sent[i][1]\n",
    "    shapetag = sent[i][3]\n",
    "    \n",
    "\n",
    "    features = {\n",
    "        'bias': 1.0,\n",
    "        'word.lower()': word.lower(),\n",
    "        'word[-3:]': word[-3:],\n",
    "        'word[-2:]': word[-2:],\n",
    "        'shapetag': shapetag,\n",
    "        'shapetag[:2]': shapetag,\n",
    "        'word.isdigit()': word.isdigit(),\n",
    "        'postag': postag,\n",
    "        'postag[:2]': postag[:2],\n",
    "    }\n",
    "    if i > 0:\n",
    "        word1 = sent[i-1][0]\n",
    "        postag1 = sent[i-1][1]\n",
    "        shapetag1 = sent[i-1][3]\n",
    "        \n",
    "        features.update({\n",
    "            '-1:word.lower()': word1.lower(),\n",
    "            '-1:shapetag': shapetag1,\n",
    "            '-1:shapetag[:2]': shapetag1[:2],\n",
    "            '-1:postag': postag1,\n",
    "            '-1:postag[:2]': postag1[:2],\n",
    "        })\n",
    "    else:\n",
    "        features['BOS'] = True\n",
    "\n",
    "    if i < len(sent)-1:\n",
    "        word1 = sent[i+1][0]\n",
    "        postag1 = sent[i+1][1]\n",
    "        shapetag1 = sent[i+1][1]\n",
    "        features.update({\n",
    "            '+1:word.lower()': word1.lower(),\n",
    "             '+1:shapetag': shapetag1,\n",
    "            '+1:shapetag[:2]': shapetag1[:2],\n",
    "            '+1:postag': postag1,\n",
    "            '+1:postag[:2]': postag1[:2],\n",
    "        })\n",
    "    else:\n",
    "        features['EOS'] = True\n",
    "\n",
    "    return features\n",
    "\n",
    "\n",
    "def sent2features(sent):\n",
    "    return [word2features(sent, i) for i in range(len(sent))]\n",
    "\n",
    "def sent2labels(sent):\n",
    "    return [label for token, postag, label, shape in sent]\n",
    "\n",
    "def sent2tokens(sent):\n",
    "    return [token for token, postag, label in sent]\n",
    "\n",
    "getter = SentenceGetter(DATA_TESTED)\n",
    "sentences = getter.sentences\n",
    "\n",
    "X = [sent2features(s) for s in sentences]\n",
    "y = [sent2labels(s) for s in sentences]\n",
    "\n",
    "print(\"done\")"
   ]
  },
  {
   "cell_type": "markdown",
   "metadata": {},
   "source": [
    "#### Visualize Sentences"
   ]
  },
  {
   "cell_type": "code",
   "execution_count": 5,
   "metadata": {},
   "outputs": [
    {
     "name": "stdout",
     "output_type": "stream",
     "text": [
      "Number of sentences: 81134\n"
     ]
    },
    {
     "data": {
      "image/png": "[encoded data removed]",
      "text/plain": [
       "<Figure size 432x288 with 1 Axes>"
      ]
     },
     "metadata": {},
     "output_type": "display_data"
    },
    {
     "name": "stdout",
     "output_type": "stream",
     "text": [
      "max len:  59\n"
     ]
    }
   ],
   "source": [
    "getter = SentenceGetter(DATA_TESTED)\n",
    "sentences = getter.sentences\n",
    "print(\"Number of sentences: \" +str(len(sentences)))\n",
    "\n",
    "plt.style.use(\"ggplot\")\n",
    "plt.hist([len(s) for s in sentences], bins=50)\n",
    "plt.show()\n",
    "\n",
    "print(\"max len: \",max([len(s) for s in sentences]))"
   ]
  },
  {
   "cell_type": "markdown",
   "metadata": {},
   "source": [
    "#### Split Data into Train/Test"
   ]
  },
  {
   "cell_type": "code",
   "execution_count": 6,
   "metadata": {},
   "outputs": [
    {
     "name": "stdout",
     "output_type": "stream",
     "text": [
      "Done, Train length:73020 Test length: 8114\n"
     ]
    }
   ],
   "source": [
    "xTrain, xTest, yTrain, yTest = train_test_split(X, y, test_size = 0.1)\n",
    "print(\"Done, Train length:\" + str(len(xTrain)) + \" Test length: \" + str(len(xTest)))"
   ]
  },
  {
   "cell_type": "markdown",
   "metadata": {},
   "source": [
    "\n",
    "#### Train Model"
   ]
  },
  {
   "cell_type": "code",
   "execution_count": 7,
   "metadata": {},
   "outputs": [
    {
     "name": "stdout",
     "output_type": "stream",
     "text": [
      "Training\n",
      "Done\n"
     ]
    }
   ],
   "source": [
    "crf = CRF(algorithm='lbfgs',\n",
    "          c1=10,\n",
    "          c2=0.1,\n",
    "          max_iterations=100,\n",
    "          all_possible_transitions=False)\n",
    "\n",
    "print(\"Training\")\n",
    "crf.fit(xTrain, yTrain)\n",
    "print(\"Done\")"
   ]
  },
  {
   "cell_type": "markdown",
   "metadata": {},
   "source": [
    "#### Test Accuracy"
   ]
  },
  {
   "cell_type": "code",
   "execution_count": 8,
   "metadata": {},
   "outputs": [
    {
     "name": "stdout",
     "output_type": "stream",
     "text": [
      "Labels:['LOC', 'PRS', 'OTHER', 'ORG']\n",
      "              precision    recall  f1-score   support\n",
      "\n",
      "         LOC      0.830     0.887     0.857      4548\n",
      "         ORG      0.763     0.732     0.747      3666\n",
      "         PRS      0.823     0.861     0.841      3277\n",
      "       OTHER      0.943     0.825     0.880      4586\n",
      "\n",
      "   micro avg      0.842     0.828     0.835     16077\n",
      "   macro avg      0.840     0.826     0.831     16077\n",
      "weighted avg      0.845     0.828     0.835     16077\n",
      "\n"
     ]
    }
   ],
   "source": [
    "# https://sklearn-crfsuite.readthedocs.io/en/latest/tutorial.html\n",
    "labels = list(crf.classes_)\n",
    "labels.remove('O')\n",
    "print(\"Labels:\" + str(labels))\n",
    "\n",
    "y_pred = crf.predict(xTest)\n",
    "\n",
    "sorted_labels = sorted(\n",
    "    labels,\n",
    "    key=lambda name: (name[1:], name[0])\n",
    ")\n",
    "print(metrics.flat_classification_report(\n",
    "    yTest, y_pred, labels=sorted_labels, digits=3\n",
    "))"
   ]
  },
  {
   "cell_type": "markdown",
   "metadata": {},
   "source": [
    "#### Save Model"
   ]
  },
  {
   "cell_type": "code",
   "execution_count": 17,
   "metadata": {},
   "outputs": [
    {
     "name": "stdout",
     "output_type": "stream",
     "text": [
      "Saved crf_fr.pickle\n"
     ]
    }
   ],
   "source": [
    "#https://github.com/floydhub/named-entity-recognition-template/blob/master/ner.ipynb\n",
    "filename=\"\"\n",
    "# filename=\"crf_swe.pickle\"\n",
    "# filename=\"crf_eng.pickle\"\n",
    "# filename=\"crf_fr.pickle\"\n",
    "\n",
    "with open('model/' + filename, 'wb') as handle:\n",
    "   pickle.dump(crf, handle, protocol=pickle.HIGHEST_PROTOCOL)\n",
    "print(\"Saved \" + filename)"
   ]
  },
  {
   "cell_type": "markdown",
   "metadata": {},
   "source": [
    "#### Load Model"
   ]
  },
  {
   "cell_type": "code",
   "execution_count": 48,
   "metadata": {},
   "outputs": [
    {
     "name": "stdout",
     "output_type": "stream",
     "text": [
      "Loaded crf_fr.pickle\n"
     ]
    }
   ],
   "source": [
    "filenameload=\"\"\n",
    "# filenameload=\"crf_swe.pickle\"\n",
    "# filenameload=\"crf_eng.pickle\"\n",
    "# filenameload=\"crf_fr.pickle\"\n",
    "\n",
    "file = open('model/' + filenameload, 'rb')\n",
    "crf = pickle.load(file)\n",
    "file.close()\n",
    "\n",
    "print(\"Loaded \" + filenameload)"
   ]
  }
 ],
 "metadata": {
  "kernelspec": {
   "display_name": "Python 3",
   "language": "python",
   "name": "python3"
  },
  "language_info": {
   "codemirror_mode": {
    "name": "ipython",
    "version": 3
   },
   "file_extension": ".py",
   "mimetype": "text/x-python",
   "name": "python",
   "nbconvert_exporter": "python",
   "pygments_lexer": "ipython3",
   "version": "3.7.3"
  }
 },
 "nbformat": 4,
 "nbformat_minor": 2
}
