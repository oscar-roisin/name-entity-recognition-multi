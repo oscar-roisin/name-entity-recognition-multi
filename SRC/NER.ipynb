{
 "cells": [
  {
   "cell_type": "markdown",
   "metadata": {},
   "source": [
    "# NER - Multilang"
   ]
  },
  {
   "cell_type": "code",
   "execution_count": 1,
   "metadata": {},
   "outputs": [
    {
     "name": "stderr",
     "output_type": "stream",
     "text": [
      "Using TensorFlow backend.\n"
     ]
    }
   ],
   "source": [
    "import numpy as np\n",
    "import pandas as pd\n",
    "import csv\n",
    "import tensorflow as tf\n",
    "import pickle\n",
    "import keras\n",
    "from sklearn.model_selection import cross_val_predict\n",
    "from sklearn.metrics import classification_report\n",
    "from sklearn.ensemble import RandomForestClassifier\n",
    "\n",
    "# Mainly Used:\n",
    "# https://www.depends-on-the-definition.com/sequence-tagging-lstm-crf/"
   ]
  },
  {
   "cell_type": "markdown",
   "metadata": {},
   "source": [
    "### Prepare data files"
   ]
  },
  {
   "cell_type": "code",
   "execution_count": 126,
   "metadata": {},
   "outputs": [
    {
     "name": "stdout",
     "output_type": "stream",
     "text": [
      "done\n"
     ]
    }
   ],
   "source": [
    "def sweStandardizeTag(line):\n",
    "    SWE_TAG_SET=[\"ORG\",\"PRS\",\"LOC\",\"OTHER\",\"O\"]\n",
    "    lineParts = line.split(\"\\t\")\n",
    "    ner_tag = lineParts[2]\n",
    "    if ner_tag in SWE_TAG_SET:\n",
    "        return line\n",
    "    if ner_tag[:3] == \"LOC\" or ner_tag == \"place\":\n",
    "        ner_tag = \"LOC\"\n",
    "    if ner_tag == \"person\":\n",
    "        ner_tag = \"PRS\"\n",
    "    if ner_tag in [\"inst\", \"ORG/PRS\", \"OBJ/ORG\"]:\n",
    "        ner_tag = \"ORG\"\n",
    "    if ner_tag in [\"WRK\",\"OBJ\",\"EVN\",\"product\",\"other\",\"work\",\"event\",\"myth\",\"animal\",\"MSR\",\"TME\",\"PRS/WRK\"]:\n",
    "        ner_tag = \"OTHER\"\n",
    "    \n",
    "    if ner_tag not in SWE_TAG_SET:\n",
    "        raise Exception(ner_tag + \" - not in tag set\") \n",
    "    return lineParts[0] + \"\\t\" + lineParts[1] + \"\\t\" + ner_tag\n",
    "\n",
    "def engStandardizeTag(line):\n",
    "    ENG_TAG_SET=[\"ORG\",\"PRS\",\"LOC\",\"OTHER\",\"O\"]\n",
    "    lineParts = line.split(\"\\t\")\n",
    "    ner_tag = lineParts[2]\n",
    "    ner_tag = ner_tag.strip()\n",
    "    if ner_tag[-3:] == \"geo\":\n",
    "        ner_tag = \"LOC\"\n",
    "    if ner_tag[-3:] == \"per\":\n",
    "        ner_tag = \"PRS\"\n",
    "    if ner_tag in [\"B-org\", \"I-org\"]:\n",
    "        ner_tag = \"ORG\"\n",
    "    if ner_tag in [\"B-gpe\",\"CD\",\"B-tim\",\"B-art\",\"I-art\",\"I-gpe\",\"I-tim\",\"B-nat\",\"I-nat\",\n",
    "                  \"B-eve\",\"I-eve\"]:\n",
    "        ner_tag = \"OTHER\"\n",
    "    if ner_tag in [\"000\\\"\",\"00\",\"\\\"\",\"JJ\",\"NNS\",\"CC\"] or ner_tag[:2].isdigit():\n",
    "        return \"\"\n",
    "    \n",
    "    if ner_tag not in ENG_TAG_SET:\n",
    "        raise Exception(ner_tag + \" - not in tag set\") \n",
    "    return lineParts[0].strip() + \"\\t\" + lineParts[1].strip() + \"\\t\" + ner_tag\n",
    "\n",
    "def frStandardizeTag(line):\n",
    "    SWE_TAG_SET=[\"ORG\",\"PRS\",\"LOC\",\"OTHER\",\"O\"]\n",
    "    lineParts = line.split(\"\\t\")\n",
    "    ner_tag = lineParts[2]\n",
    "    if ner_tag in SWE_TAG_SET:\n",
    "        return line\n",
    "    if ner_tag[-3:] == \"LOC\" or ner_tag == \"place\":\n",
    "        ner_tag = \"LOC\"\n",
    "    if ner_tag[-3:] == \"PER\" or ner_tag == \"person\":\n",
    "        ner_tag = \"PRS\"\n",
    "    if ner_tag[-3:] == \"ORG\":\n",
    "        ner_tag = \"ORG\"\n",
    "    if ner_tag in [\"I-MISC\",\"B-MISC\"]:\n",
    "        ner_tag = \"OTHER\"\n",
    "    \n",
    "    if ner_tag not in SWE_TAG_SET:\n",
    "        raise Exception(ner_tag + \" - not in tag set\") \n",
    "    return lineParts[0] + \"\\t\" + lineParts[1] + \"\\t\" + ner_tag\n",
    "\n",
    "\n",
    "DATA_DIR=\"../DATA\"\n",
    "filenames = [ \"swedish.txt\", \"english.txt\", \"french.txt\"]\n",
    "# filenames = [ \"french.txt\"]\n",
    "\n",
    "for langID in range(len(filenames)):\n",
    "    filename=filenames[langID]\n",
    "    originalFile= open(DATA_DIR + \"/\" + filename,\"r\")\n",
    "    file= open(DATA_DIR + \"/sent_\" + filename,\"w+\")\n",
    "    originalFileLines =originalFile.readlines()\n",
    "    sentId=1\n",
    "    for line in originalFileLines:\n",
    "        line = line.strip()\n",
    "        if len(line) == 0:\n",
    "            sentId = sentId + 1\n",
    "            continue\n",
    "        if langID == 0:\n",
    "            line = sweStandardizeTag(line)\n",
    "        if langID ==1:\n",
    "            line = engStandardizeTag(line)\n",
    "        if langID ==2:\n",
    "            line = frStandardizeTag(line)\n",
    "        \n",
    "        if len(line) == 0:\n",
    "            sentId = sentId + 1\n",
    "            continue\n",
    "        file.write(str(sentId) + \"\\t\" + line +\"\\n\")\n",
    "# for i in range(10):\n",
    "#      file.write(\"This is line %d\\r\\n\" % (i+1))\n",
    "    file.close()\n",
    "    originalFile.close()\n",
    "print(\"done\")"
   ]
  },
  {
   "cell_type": "markdown",
   "metadata": {},
   "source": [
    "#### Read and Analyse Data"
   ]
  },
  {
   "cell_type": "code",
   "execution_count": 128,
   "metadata": {},
   "outputs": [
    {
     "data": {
      "text/html": [
       "<div>\n",
       "<style scoped>\n",
       "    .dataframe tbody tr th:only-of-type {\n",
       "        vertical-align: middle;\n",
       "    }\n",
       "\n",
       "    .dataframe tbody tr th {\n",
       "        vertical-align: top;\n",
       "    }\n",
       "\n",
       "    .dataframe thead th {\n",
       "        text-align: right;\n",
       "    }\n",
       "</style>\n",
       "<table border=\"1\" class=\"dataframe\">\n",
       "  <thead>\n",
       "    <tr style=\"text-align: right;\">\n",
       "      <th></th>\n",
       "      <th>sent</th>\n",
       "      <th>token</th>\n",
       "      <th>pos</th>\n",
       "      <th>ner</th>\n",
       "      <th>token_shape</th>\n",
       "    </tr>\n",
       "  </thead>\n",
       "  <tbody>\n",
       "    <tr>\n",
       "      <th>0</th>\n",
       "      <td>1</td>\n",
       "      <td>Il</td>\n",
       "      <td>PRO:PER</td>\n",
       "      <td>O</td>\n",
       "      <td>Xx</td>\n",
       "    </tr>\n",
       "    <tr>\n",
       "      <th>1</th>\n",
       "      <td>1</td>\n",
       "      <td>assure</td>\n",
       "      <td>VER:pres</td>\n",
       "      <td>O</td>\n",
       "      <td>x</td>\n",
       "    </tr>\n",
       "    <tr>\n",
       "      <th>2</th>\n",
       "      <td>1</td>\n",
       "      <td>à</td>\n",
       "      <td>VER:pper</td>\n",
       "      <td>O</td>\n",
       "      <td>x</td>\n",
       "    </tr>\n",
       "    <tr>\n",
       "      <th>3</th>\n",
       "      <td>1</td>\n",
       "      <td>la</td>\n",
       "      <td>DET:ART</td>\n",
       "      <td>O</td>\n",
       "      <td>x</td>\n",
       "    </tr>\n",
       "    <tr>\n",
       "      <th>4</th>\n",
       "      <td>1</td>\n",
       "      <td>suite</td>\n",
       "      <td>NOM</td>\n",
       "      <td>O</td>\n",
       "      <td>x</td>\n",
       "    </tr>\n",
       "  </tbody>\n",
       "</table>\n",
       "</div>"
      ],
      "text/plain": [
       "   sent   token       pos ner token_shape\n",
       "0     1      Il   PRO:PER   O          Xx\n",
       "1     1  assure  VER:pres   O           x\n",
       "2     1       à  VER:pper   O           x\n",
       "3     1      la   DET:ART   O           x\n",
       "4     1   suite       NOM   O           x"
      ]
     },
     "execution_count": 128,
     "metadata": {},
     "output_type": "execute_result"
    }
   ],
   "source": [
    "DATA_DIR=\"../DATA\"\n",
    "SENT_COL=\"sent\"\n",
    "TOKEN_COL=\"token\"\n",
    "SHAPE_COL=\"token_shape\"\n",
    "POS_COL=\"pos\"\n",
    "NER_COL=\"ner\"\n",
    "\n",
    "TOKEN_SHAPE_CAT_COL=\"token_shape_cat\"\n",
    "POS_CAT_COL=\"pos_cat\"\n",
    "POS_PREV_CAT_COL=\"pos_prev_cat\"\n",
    "POS_NEXT_CAT_COL=\"pos_next_cat\"\n",
    "POS_PREV_PREV_CAT_COL=\"pos_prev_prev_cat\"\n",
    "NER_CAT_COL=\"ner_cat\"\n",
    "\n",
    "filenames = [ \"sent_swedish.txt\", \"sent_english.txt\", \"sent_french.txt\"]\n",
    "\n",
    "swe_data = pd.read_csv( DATA_DIR + '/' + filenames[0], sep=\"\\t\", header=None, quoting=csv.QUOTE_NONE)\n",
    "eng_data = pd.read_csv( DATA_DIR + '/' + filenames[1], sep=\"\\t\", header=None, quoting=csv.QUOTE_NONE)\n",
    "fr_data = pd.read_csv( DATA_DIR + '/' + filenames[2], sep=\"\\t\", header=None, quoting=csv.QUOTE_NONE)\n",
    "\n",
    "def analyseTokens(df):\n",
    "    #tokens = [\"\\\"\",\"'\",\",\",\".\",\"-\",\"_\"]\n",
    "    new_token_col = []\n",
    "    for token in df[TOKEN_COL]:\n",
    "        #print(token)\n",
    "        token=token.strip()\n",
    "        token_shape = \"\"\n",
    "        if len(token) == 1 and not token.isalnum():\n",
    "            token_shape = \"sign\" # or =token\n",
    "        else:\n",
    "            if token.isupper():\n",
    "                token_shape=\"X\"\n",
    "            elif token[0].isupper():\n",
    "                token_shape=\"Xx\"\n",
    "            else:\n",
    "                token_shape=\"x\"\n",
    "            if token[len(token)-1] == \".\":\n",
    "                token_shape+=\".\"\n",
    "        new_token_col.append(token_shape)\n",
    "    #print(len(new_token_col))\n",
    "    df[SHAPE_COL]=new_token_col\n",
    "\n",
    "def offsetArray(array,offset):\n",
    "    return np.roll(array,offset)\n",
    "    \n",
    "dataframes = [ swe_data, eng_data, fr_data ]\n",
    "# dataframes = [ swe_data ] #TODO remove\n",
    "\n",
    "for df in dataframes:\n",
    "    df.columns = [ SENT_COL, TOKEN_COL, POS_COL, NER_COL ]\n",
    "    analyseTokens(df)\n",
    "\n",
    "DATA_TESTED = fr_data\n",
    "\n",
    "DATA_TESTED.head()"
   ]
  },
  {
   "cell_type": "code",
   "execution_count": 60,
   "metadata": {},
   "outputs": [
    {
     "name": "stdout",
     "output_type": "stream",
     "text": [
      "Empty DataFrame\n",
      "Columns: [sent, token, pos, ner, token_shape]\n",
      "Index: []\n"
     ]
    }
   ],
   "source": [
    "## TEMPLATE FOR TESTING ENG/FR\n",
    "\n",
    "# SWE-TAGSET:[\"ORG\",\"PRS\",\"LOC\",\"OTHER\",\"O\"] \n",
    "# TODO for END / FR\n",
    "sub_df = eng_data[eng_data[NER_COL] == \"OTHER\"]\n",
    "print(sub_df.head(10))"
   ]
  },
  {
   "cell_type": "markdown",
   "metadata": {},
   "source": [
    "### Extract features"
   ]
  },
  {
   "cell_type": "code",
   "execution_count": 106,
   "metadata": {},
   "outputs": [
    {
     "name": "stdout",
     "output_type": "stream",
     "text": [
      "done\n"
     ]
    }
   ],
   "source": [
    "class SentenceGetter(object):\n",
    "    \n",
    "    def __init__(self, data):\n",
    "        self.n_sent = 1\n",
    "        self.data = data\n",
    "        self.empty = False\n",
    "        agg_func = lambda s: [(w, p, t,s) for w, p, t,s in zip(s[TOKEN_COL].values.tolist(),\n",
    "                                                           s[POS_COL].values.tolist(),\n",
    "                                                           s[NER_COL].values.tolist(),\n",
    "                                                           s[SHAPE_COL].values.tolist())]\n",
    "        self.grouped = self.data.groupby(SENT_COL).apply(agg_func)\n",
    "        self.sentences = [s for s in self.grouped]\n",
    "    \n",
    "    def get_next(self):\n",
    "        try:\n",
    "            s = self.grouped[self.n_sent]\n",
    "            self.n_sent += 1\n",
    "            return s\n",
    "        except:\n",
    "            return None\n",
    "\n",
    "def word2features(sent, i):\n",
    "    word = sent[i][0]\n",
    "    postag = sent[i][1]\n",
    "    shapetag = sent[i][3]\n",
    "    \n",
    "\n",
    "    features = {\n",
    "        'bias': 1.0,\n",
    "        'word.lower()': word.lower(),\n",
    "        'word[-3:]': word[-3:],\n",
    "        'word[-2:]': word[-2:],\n",
    "        'shapetag': shapetag,\n",
    "        'shapetag[:2]': shapetag,\n",
    "        'word.isdigit()': word.isdigit(),\n",
    "        'postag': postag,\n",
    "        'postag[:2]': postag[:2],\n",
    "    }\n",
    "    if i > 0:\n",
    "        word1 = sent[i-1][0]\n",
    "        postag1 = sent[i-1][1]\n",
    "        shapetag1 = sent[i-1][3]\n",
    "        \n",
    "        features.update({\n",
    "            '-1:word.lower()': word1.lower(),\n",
    "            '-1:shapetag': shapetag1,\n",
    "            '-1:shapetag[:2]': shapetag1[:2],\n",
    "            '-1:postag': postag1,\n",
    "            '-1:postag[:2]': postag1[:2],\n",
    "        })\n",
    "    else:\n",
    "        features['BOS'] = True\n",
    "\n",
    "    if i < len(sent)-1:\n",
    "        word1 = sent[i+1][0]\n",
    "        postag1 = sent[i+1][1]\n",
    "        shapetag1 = sent[i+1][1]\n",
    "        features.update({\n",
    "            '+1:word.lower()': word1.lower(),\n",
    "             '+1:shapetag': shapetag1,\n",
    "            '+1:shapetag[:2]': shapetag1[:2],\n",
    "            '+1:postag': postag1,\n",
    "            '+1:postag[:2]': postag1[:2],\n",
    "        })\n",
    "    else:\n",
    "        features['EOS'] = True\n",
    "\n",
    "    return features\n",
    "\n",
    "\n",
    "def sent2features(sent):\n",
    "    return [word2features(sent, i) for i in range(len(sent))]\n",
    "\n",
    "def sent2labels(sent):\n",
    "    return [label for token, postag, label, shape in sent]\n",
    "\n",
    "def sent2tokens(sent):\n",
    "    return [token for token, postag, label in sent]\n",
    "\n",
    "getter = SentenceGetter(DATA_TESTED)\n",
    "sentences = getter.sentences\n",
    "\n",
    "X = [sent2features(s) for s in sentences]\n",
    "y = [sent2labels(s) for s in sentences]\n",
    "\n",
    "print(\"done\")"
   ]
  },
  {
   "cell_type": "markdown",
   "metadata": {},
   "source": [
    "#### Visualize Sentences"
   ]
  },
  {
   "cell_type": "code",
   "execution_count": 129,
   "metadata": {},
   "outputs": [
    {
     "name": "stdout",
     "output_type": "stream",
     "text": [
      "no. of sentencces: 134092\n"
     ]
    },
    {
     "data": {
      "image/png": "[encoded data removed]",
      "text/plain": [
       "<Figure size 432x288 with 1 Axes>"
      ]
     },
     "metadata": {},
     "output_type": "display_data"
    },
    {
     "name": "stdout",
     "output_type": "stream",
     "text": [
      "max len:  242\n"
     ]
    }
   ],
   "source": [
    "getter = SentenceGetter(DATA_TESTED)\n",
    "# sent = getter.get_next()\n",
    "# print(sent)\n",
    "sentences = getter.sentences\n",
    "print(\"no. of sentencces: \" +str(len(sentences)))\n",
    "\n",
    "import matplotlib.pyplot as plt\n",
    "plt.style.use(\"ggplot\")\n",
    "plt.hist([len(s) for s in sentences], bins=50)\n",
    "plt.show()\n",
    "\n",
    "print(\"max len: \",max([len(s) for s in sentences]))"
   ]
  },
  {
   "cell_type": "markdown",
   "metadata": {},
   "source": [
    "#### Split Data into Train/Test"
   ]
  },
  {
   "cell_type": "code",
   "execution_count": 130,
   "metadata": {},
   "outputs": [
    {
     "name": "stdout",
     "output_type": "stream",
     "text": [
      "Done, Train length:73020 Test length: 8114\n"
     ]
    }
   ],
   "source": [
    "from sklearn.model_selection import train_test_split\n",
    "xTrain, xTest, yTrain, yTest = train_test_split(X, y, test_size = 0.1)\n",
    "print(\"Done, Train length:\" + str(len(xTrain)) + \" Test length: \" + str(len(xTest)))"
   ]
  },
  {
   "cell_type": "markdown",
   "metadata": {},
   "source": [
    "\n",
    "#### Train Model"
   ]
  },
  {
   "cell_type": "code",
   "execution_count": 131,
   "metadata": {},
   "outputs": [
    {
     "name": "stdout",
     "output_type": "stream",
     "text": [
      "Training\n",
      "Done\n"
     ]
    }
   ],
   "source": [
    "from sklearn_crfsuite import CRF\n",
    "\n",
    "crf = CRF(algorithm='lbfgs',\n",
    "          c1=10,\n",
    "          c2=0.1,\n",
    "          max_iterations=100,\n",
    "          all_possible_transitions=False)\n",
    "\n",
    "from sklearn_crfsuite.metrics import flat_classification_report\n",
    "\n",
    "# pred = cross_val_predict(estimator=crf, X=X, y=y, cv=5)\n",
    "# report = flat_classification_report(y_pred=pred, y_true=y)\n",
    "# print(report)\n",
    "print(\"Training\")\n",
    "crf.fit(xTrain, yTrain)\n",
    "print(\"Done\")"
   ]
  },
  {
   "cell_type": "markdown",
   "metadata": {},
   "source": [
    "#### Test Accuracy"
   ]
  },
  {
   "cell_type": "code",
   "execution_count": 136,
   "metadata": {},
   "outputs": [
    {
     "name": "stdout",
     "output_type": "stream",
     "text": [
      "Labels:['LOC', 'PRS', 'OTHER', 'ORG']\n",
      "              precision    recall  f1-score   support\n",
      "\n",
      "         LOC      0.838     0.894     0.865      4527\n",
      "         ORG      0.781     0.750     0.765      3711\n",
      "         PRS      0.836     0.861     0.848      3535\n",
      "       OTHER      0.942     0.836     0.885      4663\n",
      "\n",
      "   micro avg      0.851     0.838     0.844     16436\n",
      "   macro avg      0.849     0.835     0.841     16436\n",
      "weighted avg      0.854     0.838     0.845     16436\n",
      "\n"
     ]
    }
   ],
   "source": [
    "# https://sklearn-crfsuite.readthedocs.io/en/latest/tutorial.html\n",
    "from sklearn_crfsuite import scorers\n",
    "from sklearn_crfsuite import metrics\n",
    "\n",
    "labels = list(crf.classes_)\n",
    "labels.remove('O')\n",
    "print(\"Labels:\" + str(labels))\n",
    "\n",
    "y_pred = crf.predict(xTest)\n",
    "# metrics.flat_f1_score(y, y_pred,\n",
    "#                       average='weighted', labels=labels)\n",
    "\n",
    "sorted_labels = sorted(\n",
    "    labels,\n",
    "    key=lambda name: (name[1:], name[0])\n",
    ")\n",
    "print(metrics.flat_classification_report(\n",
    "    yTest, y_pred, labels=sorted_labels, digits=3\n",
    "))"
   ]
  },
  {
   "cell_type": "markdown",
   "metadata": {},
   "source": [
    "#### Test Input"
   ]
  },
  {
   "cell_type": "code",
   "execution_count": 55,
   "metadata": {},
   "outputs": [
    {
     "data": {
      "text/plain": [
       "<function TextIOWrapper.close()>"
      ]
     },
     "execution_count": 55,
     "metadata": {},
     "output_type": "execute_result"
    }
   ],
   "source": [
    "sent = \"Ken tycker inte om Sverige\"\n",
    "\n",
    "file= open(\"tmpfile_swe.txt\",\"w+\")\n",
    "file.write(sent)\n",
    "file.close\n",
    "print(\"Done\")"
   ]
  },
  {
   "cell_type": "code",
   "execution_count": 56,
   "metadata": {},
   "outputs": [
    {
     "name": "stdout",
     "output_type": "stream",
     "text": [
      "Start Tagging\n",
      "Loading Stagger model ...\n",
      "done\n"
     ]
    }
   ],
   "source": [
    "# sent = input(\"Enter swedish sentence: \")\n",
    "# print(sent)\n",
    "\n",
    "print(\"Start Tagging\")\n",
    "# !../TAGGERS/stagger/tagSweNoFile.sh ./tmp/file_swe.txt fill\n",
    "!java -jar ../TAGGERS/stagger/stagger.jar -modelfile ../TAGGERS/stagger/models/swedish.bin -tag ./tmpfile_swe.txt > ./tmpfile_res_swe.txt\n",
    "print(\"Done\")"
   ]
  },
  {
   "cell_type": "code",
   "execution_count": 57,
   "metadata": {},
   "outputs": [
    {
     "name": "stdout",
     "output_type": "stream",
     "text": [
      "[['PRS', 'O', 'O', 'O', 'LOC']]\n",
      "done\n"
     ]
    },
    {
     "data": {
      "text/html": [
       "<div>\n",
       "<style scoped>\n",
       "    .dataframe tbody tr th:only-of-type {\n",
       "        vertical-align: middle;\n",
       "    }\n",
       "\n",
       "    .dataframe tbody tr th {\n",
       "        vertical-align: top;\n",
       "    }\n",
       "\n",
       "    .dataframe thead th {\n",
       "        text-align: right;\n",
       "    }\n",
       "</style>\n",
       "<table border=\"1\" class=\"dataframe\">\n",
       "  <thead>\n",
       "    <tr style=\"text-align: right;\">\n",
       "      <th></th>\n",
       "      <th>sent</th>\n",
       "      <th>token</th>\n",
       "      <th>pos</th>\n",
       "      <th>ner</th>\n",
       "      <th>token_shape</th>\n",
       "    </tr>\n",
       "  </thead>\n",
       "  <tbody>\n",
       "    <tr>\n",
       "      <th>0</th>\n",
       "      <td>1</td>\n",
       "      <td>Ken</td>\n",
       "      <td>PM</td>\n",
       "      <td>PRS</td>\n",
       "      <td>Xx</td>\n",
       "    </tr>\n",
       "    <tr>\n",
       "      <th>1</th>\n",
       "      <td>1</td>\n",
       "      <td>tycker</td>\n",
       "      <td>VB</td>\n",
       "      <td>O</td>\n",
       "      <td>x</td>\n",
       "    </tr>\n",
       "    <tr>\n",
       "      <th>2</th>\n",
       "      <td>1</td>\n",
       "      <td>inte</td>\n",
       "      <td>AB</td>\n",
       "      <td>O</td>\n",
       "      <td>x</td>\n",
       "    </tr>\n",
       "    <tr>\n",
       "      <th>3</th>\n",
       "      <td>1</td>\n",
       "      <td>om</td>\n",
       "      <td>PL</td>\n",
       "      <td>O</td>\n",
       "      <td>x</td>\n",
       "    </tr>\n",
       "    <tr>\n",
       "      <th>4</th>\n",
       "      <td>1</td>\n",
       "      <td>Sverige</td>\n",
       "      <td>PM</td>\n",
       "      <td>LOC</td>\n",
       "      <td>Xx</td>\n",
       "    </tr>\n",
       "  </tbody>\n",
       "</table>\n",
       "</div>"
      ],
      "text/plain": [
       "   sent    token pos  ner token_shape\n",
       "0     1      Ken  PM  PRS          Xx\n",
       "1     1   tycker  VB    O           x\n",
       "2     1     inte  AB    O           x\n",
       "3     1       om  PL    O           x\n",
       "4     1  Sverige  PM  LOC          Xx"
      ]
     },
     "execution_count": 57,
     "metadata": {},
     "output_type": "execute_result"
    }
   ],
   "source": [
    "file= open(\"tmpfile_res_swe.txt\",\"r\")\n",
    "result = file.readlines()\n",
    "\n",
    "data = [] \n",
    "  \n",
    "# Create the pandas DataFrame \n",
    "\n",
    "\n",
    "for line in result:\n",
    "    splitLine = line.split()\n",
    "    if(len(splitLine)==0):\n",
    "        break\n",
    "    word = splitLine[1]\n",
    "    pos = splitLine[3]\n",
    "    ner = \"unknown\"\n",
    "    data.append([1,word,pos,ner])\n",
    "file.close\n",
    "\n",
    "\n",
    "# newDf = pd.DataFrame()\n",
    "df = pd.DataFrame(data, columns = [ SENT_COL, TOKEN_COL, POS_COL, NER_COL ]) \n",
    "\n",
    "analyseTokens(df)\n",
    "\n",
    "\n",
    "\n",
    "getter_sent = SentenceGetter(df)\n",
    "pred_sentence = getter_sent.sentences\n",
    "\n",
    "X_sent = [sent2features(s) for s in pred_sentence]\n",
    "# y = [sent2labels(s) for s in sentences]\n",
    "\n",
    "y_pred = crf.predict(X_sent)\n",
    "print(y_pred)\n",
    "print(\"done\")\n",
    "df[NER_COL]=y_pred[0]\n",
    "df.head()"
   ]
  },
  {
   "cell_type": "markdown",
   "metadata": {},
   "source": [
    "#### Save Model"
   ]
  },
  {
   "cell_type": "code",
   "execution_count": 133,
   "metadata": {},
   "outputs": [
    {
     "name": "stdout",
     "output_type": "stream",
     "text": [
      "Saved crf_fr.pickle\n"
     ]
    }
   ],
   "source": [
    "#https://github.com/floydhub/named-entity-recognition-template/blob/master/ner.ipynb\n",
    "\n",
    "# filename=\"crf_swe.pickle\"\n",
    "# filename=\"crf_eng.pickle\"\n",
    "# filename=\"crf_fr.pickle\"\n",
    "\n",
    "import pickle\n",
    "with open(filename, 'wb') as handle:\n",
    "   pickle.dump(crf, handle, protocol=pickle.HIGHEST_PROTOCOL)\n",
    "print(\"Saved \" + filename)"
   ]
  },
  {
   "cell_type": "markdown",
   "metadata": {},
   "source": [
    "#### Load Model"
   ]
  },
  {
   "cell_type": "code",
   "execution_count": 134,
   "metadata": {},
   "outputs": [
    {
     "name": "stdout",
     "output_type": "stream",
     "text": [
      "Loaded crf_fr.pickle\n"
     ]
    }
   ],
   "source": [
    "import pickle\n",
    "\n",
    "# filename=\"crf_swe.pickle\"\n",
    "# filename=\"crf_eng.pickle\"\n",
    "filename=\"crf_fr.pickle\"\n",
    "\n",
    "file = open(filename, 'rb')\n",
    "crf = pickle.load(file)\n",
    "file.close()\n",
    "\n",
    "print(\"Loaded \" + filename)"
   ]
  }
 ],
 "metadata": {
  "kernelspec": {
   "display_name": "Python 3",
   "language": "python",
   "name": "python3"
  },
  "language_info": {
   "codemirror_mode": {
    "name": "ipython",
    "version": 3
   },
   "file_extension": ".py",
   "mimetype": "text/x-python",
   "name": "python",
   "nbconvert_exporter": "python",
   "pygments_lexer": "ipython3",
   "version": "3.7.3"
  }
 },
 "nbformat": 4,
 "nbformat_minor": 2
}
